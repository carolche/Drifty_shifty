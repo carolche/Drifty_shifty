{
 "cells": [
  {
   "cell_type": "markdown",
   "id": "c69d9d7d",
   "metadata": {},
   "source": [
    "# Title: Crop_aligned_images\n",
    "AUTHOR: Caroline Berthebaud Cheung\n",
    "DATE: 2022/06/03 (YY/MM/DD)\n",
    "\n",
    "[] = main_crop(input_dir, output_dir, output_format)\n",
    "\n",
    "     This script is used to crop dedrifted, thus aligned, images of an object taken over a certain period of time.\n",
    "     Because over time, the object will move slightly (or sometimes a lot) from its original place, we first dedrifted\n",
    "     the images and aligned them by padding the moved distance with a black border. In order to keep only the parts of\n",
    "     the object that is exactly the same in each image, I created this script to crop out the black border as well as\n",
    "     the parts of the object that are not in every frame.\n",
    "\n",
    "     This script takes 3 required input: \"input_dir\" which is the directory where all the images are contained;\n",
    "     \"output_dir\" which is the directory where the cropped images will be saved; and the \"output_format\" which should\n",
    "     either be png or tif(f)."
   ]
  },
  {
   "cell_type": "markdown",
   "id": "f818d1c0",
   "metadata": {},
   "source": [
    "# Import all the dependencies/libraries"
   ]
  },
  {
   "cell_type": "code",
   "execution_count": null,
   "id": "d042a6de",
   "metadata": {},
   "outputs": [],
   "source": [
    "import numpy as np\n",
    "import cv2\n",
    "import os\n",
    "from timeit import default_timer as timer"
   ]
  },
  {
   "cell_type": "markdown",
   "id": "6705e70b",
   "metadata": {},
   "source": [
    "# Relevant functions"
   ]
  },
  {
   "cell_type": "code",
   "execution_count": null,
   "id": "7e08441d",
   "metadata": {},
   "outputs": [],
   "source": [
    "def remove_black_border(images):\n",
    "    y_nonzero, x_nonzero = list(zip(*[np.nonzero(i) for i in images]))\n",
    "\n",
    "    min_y = np.max([np.min(y) for y in y_nonzero])\n",
    "    max_y = np.min([np.max(y) for y in y_nonzero])\n",
    "    min_x = np.max([np.min(x) for x in x_nonzero])\n",
    "    max_x = np.min([np.max(x) for x in x_nonzero])\n",
    "\n",
    "    return min_y, min_x, max_y, max_x\n",
    "\n",
    "\n",
    "\n",
    "def crop_aligned_images(input_dir, output_dir, output_format):\n",
    "    start = timer()\n",
    "    print('start cropping')\n",
    "\n",
    "    # define current working dir as cwd\n",
    "    cwd = os.curdir\n",
    "\n",
    "    # Change the working directory to the input directory\n",
    "    os.chdir(input_dir)\n",
    "\n",
    "    # Get all the individual files in the input directory\n",
    "    files = sorted(os.listdir(input_dir))\n",
    "\n",
    "    # These are all the accepted types of extensions\n",
    "    expected_ext = ['png', 'tif', 'tiff']\n",
    "\n",
    "    # Determine input format type\n",
    "    fileNames = [img for img in files if (img.split(\".\")[-1].lower() in expected_ext and img[0].isalnum())]\n",
    "    images = [cv2.imread(f) for f in fileNames]\n",
    "    images = [cv2.cvtColor(i, cv2.COLOR_BGR2GRAY) for i in images if i.shape[2]==3]\n",
    "    names = [f.rsplit('.')[0] for f in fileNames]\n",
    "\n",
    "    min_y, min_x, max_y, max_x = remove_black_border(images)\n",
    "\n",
    "    for i in range(len(images)):\n",
    "        image = images[i][min_y:max_y, min_x:max_x]\n",
    "        cv2.imwrite(os.path.join(output_dir, f\"{names[i]}_crop.{output_format}\"), image)\n",
    "\n",
    "    end = timer()\n",
    "    print(f'elapsed time {end-start}')\n",
    "    print('cropping successful')\n",
    "\n",
    "    return None"
   ]
  },
  {
   "cell_type": "markdown",
   "id": "9d369be6",
   "metadata": {},
   "source": [
    "# Inputs"
   ]
  },
  {
   "cell_type": "code",
   "execution_count": null,
   "id": "c60193a9",
   "metadata": {},
   "outputs": [],
   "source": [
    "input_dir = \"/Volumes/Caro2/scene2_8bit2_FS_dedrifted\"\n",
    "output_dir = \"/Volumes/Caro2/scene2_8bit2_FS_dedrifted_cropped\"\n",
    "output_format = 'png'"
   ]
  },
  {
   "cell_type": "markdown",
   "id": "c082dbb6",
   "metadata": {},
   "source": [
    "# Call the function"
   ]
  },
  {
   "cell_type": "code",
   "execution_count": null,
   "id": "916d725e",
   "metadata": {},
   "outputs": [],
   "source": [
    "crop_aligned_images(input_dir, output_dir, output_format)"
   ]
  }
 ],
 "metadata": {
  "kernelspec": {
   "display_name": "Python [conda env:FocusStackerDedrifter]",
   "language": "python",
   "name": "conda-env-FocusStackerDedrifter-py"
  },
  "language_info": {
   "codemirror_mode": {
    "name": "ipython",
    "version": 3
   },
   "file_extension": ".py",
   "mimetype": "text/x-python",
   "name": "python",
   "nbconvert_exporter": "python",
   "pygments_lexer": "ipython3",
   "version": "3.10.0"
  }
 },
 "nbformat": 4,
 "nbformat_minor": 5
}
